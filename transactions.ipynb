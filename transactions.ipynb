{
 "cells": [
  {
   "cell_type": "markdown",
   "metadata": {},
   "source": [
    "# Basic Asset Analysis\n",
    "\n",
    "How to evaluate the performance of your assets?\n",
    "Optimize your portfolio by reviewing the statistics of your stocks.\n",
    "\n",
    "The goal is to generate an objective measure to validate the potential win against the risk. This method is know as the CAPM method. What we would like to see:\n",
    "- Risk?\n",
    "- Opportunity?\n",
    "- Is the asset over- or under valued? (undervalued = potential that it will do well in the future)\n",
    "\n",
    "## 1. Importing Libraries"
   ]
  },
  {
   "cell_type": "code",
   "execution_count": 2,
   "metadata": {},
   "outputs": [],
   "source": [
    "import pandas_datareader as pdr\n",
    "import numpy as np\n",
    "import datetime as dt\n",
    "import pandas as pd\n",
    "from sklearn.linear_model import LinearRegression\n",
    "\n",
    "import matplotlib.pyplot as plt\n",
    "import seaborn as sns\n",
    "\n",
    "%matplotlib inline"
   ]
  },
  {
   "cell_type": "markdown",
   "metadata": {},
   "source": [
    "## 2. Calculating Beta\n",
    "Beta expresses how \"dynamic\" an asset reacts to market fluctuations. A high beta means high risk, but also high opportunity, depending on the market.\n",
    "- Beta < 1: More stable, but also less growth opportunity\n",
    "- Beta > 1: More risky, but also higher win opportunity\n",
    "\n",
    "### Process\n",
    "- Get raw stock data of the market and the stocks of interest (can be 1 year, 3 years or other timeframe). Typically the S&P500 (Symbol \"^GSPC\") is used as the representation of the market data.\n",
    "- Transform raw data into a dataframe with returns\n",
    "- Calculate Beta\n",
    "- Calculate the expected rate of return (CAPM method)\n",
    "- Interprete the results"
   ]
  },
  {
   "cell_type": "code",
   "execution_count": 3,
   "metadata": {},
   "outputs": [
    {
     "data": {
      "text/html": [
       "<div>\n",
       "<style scoped>\n",
       "    .dataframe tbody tr th:only-of-type {\n",
       "        vertical-align: middle;\n",
       "    }\n",
       "\n",
       "    .dataframe tbody tr th {\n",
       "        vertical-align: top;\n",
       "    }\n",
       "\n",
       "    .dataframe thead th {\n",
       "        text-align: right;\n",
       "    }\n",
       "</style>\n",
       "<table border=\"1\" class=\"dataframe\">\n",
       "  <thead>\n",
       "    <tr style=\"text-align: right;\">\n",
       "      <th>Symbols</th>\n",
       "      <th>XIC.TO</th>\n",
       "      <th>^GSPC</th>\n",
       "      <th>SHOP</th>\n",
       "      <th>TSLA</th>\n",
       "      <th>VFV.TO</th>\n",
       "    </tr>\n",
       "    <tr>\n",
       "      <th>Date</th>\n",
       "      <th></th>\n",
       "      <th></th>\n",
       "      <th></th>\n",
       "      <th></th>\n",
       "      <th></th>\n",
       "    </tr>\n",
       "  </thead>\n",
       "  <tbody>\n",
       "    <tr>\n",
       "      <th>2018-12-24</th>\n",
       "      <td>20.099087</td>\n",
       "      <td>2351.100098</td>\n",
       "      <td>119.099998</td>\n",
       "      <td>59.077999</td>\n",
       "      <td>54.506878</td>\n",
       "    </tr>\n",
       "    <tr>\n",
       "      <th>2018-12-26</th>\n",
       "      <td>NaN</td>\n",
       "      <td>2467.699951</td>\n",
       "      <td>130.210007</td>\n",
       "      <td>65.218002</td>\n",
       "      <td>NaN</td>\n",
       "    </tr>\n",
       "    <tr>\n",
       "      <th>2018-12-27</th>\n",
       "      <td>20.646498</td>\n",
       "      <td>2488.830078</td>\n",
       "      <td>132.399994</td>\n",
       "      <td>63.226002</td>\n",
       "      <td>57.672100</td>\n",
       "    </tr>\n",
       "    <tr>\n",
       "      <th>2018-12-28</th>\n",
       "      <td>20.764046</td>\n",
       "      <td>2485.739990</td>\n",
       "      <td>133.460007</td>\n",
       "      <td>66.774002</td>\n",
       "      <td>57.985275</td>\n",
       "    </tr>\n",
       "    <tr>\n",
       "      <th>2018-12-31</th>\n",
       "      <td>20.929350</td>\n",
       "      <td>2506.850098</td>\n",
       "      <td>138.449997</td>\n",
       "      <td>66.559998</td>\n",
       "      <td>58.090950</td>\n",
       "    </tr>\n",
       "    <tr>\n",
       "      <th>...</th>\n",
       "      <td>...</td>\n",
       "      <td>...</td>\n",
       "      <td>...</td>\n",
       "      <td>...</td>\n",
       "      <td>...</td>\n",
       "    </tr>\n",
       "    <tr>\n",
       "      <th>2021-12-20</th>\n",
       "      <td>32.810001</td>\n",
       "      <td>4568.020020</td>\n",
       "      <td>1282.170044</td>\n",
       "      <td>899.940002</td>\n",
       "      <td>105.099998</td>\n",
       "    </tr>\n",
       "    <tr>\n",
       "      <th>2021-12-21</th>\n",
       "      <td>33.419998</td>\n",
       "      <td>4649.229980</td>\n",
       "      <td>1370.109985</td>\n",
       "      <td>938.530029</td>\n",
       "      <td>106.750000</td>\n",
       "    </tr>\n",
       "    <tr>\n",
       "      <th>2021-12-22</th>\n",
       "      <td>33.660000</td>\n",
       "      <td>4696.560059</td>\n",
       "      <td>1385.630005</td>\n",
       "      <td>1008.869995</td>\n",
       "      <td>107.150002</td>\n",
       "    </tr>\n",
       "    <tr>\n",
       "      <th>2021-12-23</th>\n",
       "      <td>33.919998</td>\n",
       "      <td>4725.790039</td>\n",
       "      <td>1439.329956</td>\n",
       "      <td>1067.000000</td>\n",
       "      <td>107.580002</td>\n",
       "    </tr>\n",
       "    <tr>\n",
       "      <th>2021-12-24</th>\n",
       "      <td>33.939999</td>\n",
       "      <td>NaN</td>\n",
       "      <td>NaN</td>\n",
       "      <td>NaN</td>\n",
       "      <td>107.730003</td>\n",
       "    </tr>\n",
       "  </tbody>\n",
       "</table>\n",
       "<p>770 rows × 5 columns</p>\n",
       "</div>"
      ],
      "text/plain": [
       "Symbols        XIC.TO        ^GSPC         SHOP         TSLA      VFV.TO\n",
       "Date                                                                    \n",
       "2018-12-24  20.099087  2351.100098   119.099998    59.077999   54.506878\n",
       "2018-12-26        NaN  2467.699951   130.210007    65.218002         NaN\n",
       "2018-12-27  20.646498  2488.830078   132.399994    63.226002   57.672100\n",
       "2018-12-28  20.764046  2485.739990   133.460007    66.774002   57.985275\n",
       "2018-12-31  20.929350  2506.850098   138.449997    66.559998   58.090950\n",
       "...               ...          ...          ...          ...         ...\n",
       "2021-12-20  32.810001  4568.020020  1282.170044   899.940002  105.099998\n",
       "2021-12-21  33.419998  4649.229980  1370.109985   938.530029  106.750000\n",
       "2021-12-22  33.660000  4696.560059  1385.630005  1008.869995  107.150002\n",
       "2021-12-23  33.919998  4725.790039  1439.329956  1067.000000  107.580002\n",
       "2021-12-24  33.939999          NaN          NaN          NaN  107.730003\n",
       "\n",
       "[770 rows x 5 columns]"
      ]
     },
     "execution_count": 3,
     "metadata": {},
     "output_type": "execute_result"
    }
   ],
   "source": [
    "tickers = ['XIC.TO', '^GSPC', 'SHOP', 'TSLA', 'VFV.TO']\n",
    "start = dt.datetime(2018, 12, 24)\n",
    "end = dt.datetime(2021, 12, 24)\n",
    "df_stocks = pdr.get_data_yahoo(tickers, start, end, interval=\"d\")\n",
    "\n",
    "df_stocks = df_stocks['Adj Close']\n",
    "\n",
    "df_stocks"
   ]
  },
  {
   "cell_type": "markdown",
   "metadata": {},
   "source": [
    "### Calculating Beta - Method 1"
   ]
  },
  {
   "cell_type": "code",
   "execution_count": 4,
   "metadata": {},
   "outputs": [
    {
     "data": {
      "text/html": [
       "<div>\n",
       "<style scoped>\n",
       "    .dataframe tbody tr th:only-of-type {\n",
       "        vertical-align: middle;\n",
       "    }\n",
       "\n",
       "    .dataframe tbody tr th {\n",
       "        vertical-align: top;\n",
       "    }\n",
       "\n",
       "    .dataframe thead th {\n",
       "        text-align: right;\n",
       "    }\n",
       "</style>\n",
       "<table border=\"1\" class=\"dataframe\">\n",
       "  <thead>\n",
       "    <tr style=\"text-align: right;\">\n",
       "      <th>Symbols</th>\n",
       "      <th>XIC.TO</th>\n",
       "      <th>^GSPC</th>\n",
       "      <th>SHOP</th>\n",
       "      <th>TSLA</th>\n",
       "      <th>VFV.TO</th>\n",
       "    </tr>\n",
       "    <tr>\n",
       "      <th>Date</th>\n",
       "      <th></th>\n",
       "      <th></th>\n",
       "      <th></th>\n",
       "      <th></th>\n",
       "      <th></th>\n",
       "    </tr>\n",
       "  </thead>\n",
       "  <tbody>\n",
       "    <tr>\n",
       "      <th>2018-12-24</th>\n",
       "      <td>NaN</td>\n",
       "      <td>NaN</td>\n",
       "      <td>NaN</td>\n",
       "      <td>NaN</td>\n",
       "      <td>NaN</td>\n",
       "    </tr>\n",
       "    <tr>\n",
       "      <th>2018-12-26</th>\n",
       "      <td>NaN</td>\n",
       "      <td>0.048403</td>\n",
       "      <td>0.089185</td>\n",
       "      <td>0.098877</td>\n",
       "      <td>NaN</td>\n",
       "    </tr>\n",
       "    <tr>\n",
       "      <th>2018-12-27</th>\n",
       "      <td>NaN</td>\n",
       "      <td>0.008526</td>\n",
       "      <td>0.016679</td>\n",
       "      <td>-0.031020</td>\n",
       "      <td>NaN</td>\n",
       "    </tr>\n",
       "    <tr>\n",
       "      <th>2018-12-28</th>\n",
       "      <td>0.005677</td>\n",
       "      <td>-0.001242</td>\n",
       "      <td>0.007974</td>\n",
       "      <td>0.054598</td>\n",
       "      <td>0.005416</td>\n",
       "    </tr>\n",
       "    <tr>\n",
       "      <th>2018-12-31</th>\n",
       "      <td>0.007930</td>\n",
       "      <td>0.008457</td>\n",
       "      <td>0.036707</td>\n",
       "      <td>-0.003210</td>\n",
       "      <td>0.001821</td>\n",
       "    </tr>\n",
       "    <tr>\n",
       "      <th>...</th>\n",
       "      <td>...</td>\n",
       "      <td>...</td>\n",
       "      <td>...</td>\n",
       "      <td>...</td>\n",
       "      <td>...</td>\n",
       "    </tr>\n",
       "    <tr>\n",
       "      <th>2021-12-20</th>\n",
       "      <td>-0.009706</td>\n",
       "      <td>-0.011453</td>\n",
       "      <td>-0.031650</td>\n",
       "      <td>-0.035616</td>\n",
       "      <td>-0.008149</td>\n",
       "    </tr>\n",
       "    <tr>\n",
       "      <th>2021-12-21</th>\n",
       "      <td>0.018421</td>\n",
       "      <td>0.017622</td>\n",
       "      <td>0.066337</td>\n",
       "      <td>0.041987</td>\n",
       "      <td>0.015577</td>\n",
       "    </tr>\n",
       "    <tr>\n",
       "      <th>2021-12-22</th>\n",
       "      <td>0.007156</td>\n",
       "      <td>0.010129</td>\n",
       "      <td>0.011264</td>\n",
       "      <td>0.072271</td>\n",
       "      <td>0.003740</td>\n",
       "    </tr>\n",
       "    <tr>\n",
       "      <th>2021-12-23</th>\n",
       "      <td>0.007695</td>\n",
       "      <td>0.006204</td>\n",
       "      <td>0.038023</td>\n",
       "      <td>0.056020</td>\n",
       "      <td>0.004005</td>\n",
       "    </tr>\n",
       "    <tr>\n",
       "      <th>2021-12-24</th>\n",
       "      <td>0.000589</td>\n",
       "      <td>NaN</td>\n",
       "      <td>NaN</td>\n",
       "      <td>NaN</td>\n",
       "      <td>0.001393</td>\n",
       "    </tr>\n",
       "  </tbody>\n",
       "</table>\n",
       "<p>770 rows × 5 columns</p>\n",
       "</div>"
      ],
      "text/plain": [
       "Symbols       XIC.TO     ^GSPC      SHOP      TSLA    VFV.TO\n",
       "Date                                                        \n",
       "2018-12-24       NaN       NaN       NaN       NaN       NaN\n",
       "2018-12-26       NaN  0.048403  0.089185  0.098877       NaN\n",
       "2018-12-27       NaN  0.008526  0.016679 -0.031020       NaN\n",
       "2018-12-28  0.005677 -0.001242  0.007974  0.054598  0.005416\n",
       "2018-12-31  0.007930  0.008457  0.036707 -0.003210  0.001821\n",
       "...              ...       ...       ...       ...       ...\n",
       "2021-12-20 -0.009706 -0.011453 -0.031650 -0.035616 -0.008149\n",
       "2021-12-21  0.018421  0.017622  0.066337  0.041987  0.015577\n",
       "2021-12-22  0.007156  0.010129  0.011264  0.072271  0.003740\n",
       "2021-12-23  0.007695  0.006204  0.038023  0.056020  0.004005\n",
       "2021-12-24  0.000589       NaN       NaN       NaN  0.001393\n",
       "\n",
       "[770 rows x 5 columns]"
      ]
     },
     "execution_count": 4,
     "metadata": {},
     "output_type": "execute_result"
    }
   ],
   "source": [
    "# Generating dataframe with returns\n",
    "df_returns = np.log(df_stocks / df_stocks.shift())\n",
    "df_returns"
   ]
  },
  {
   "cell_type": "code",
   "execution_count": 5,
   "metadata": {},
   "outputs": [],
   "source": [
    "cov = df_returns.cov()\n",
    "var = df_returns['^GSPC'].var()\n",
    "beta_xic = cov.loc['XIC.TO', '^GSPC'] / var\n",
    "beta_shop = cov.loc['SHOP', '^GSPC'] / var\n",
    "beta_tsla = cov.loc['TSLA', '^GSPC'] / var\n",
    "beta_vfv = cov.loc['VFV.TO', '^GSPC'] / var"
   ]
  },
  {
   "cell_type": "code",
   "execution_count": 6,
   "metadata": {},
   "outputs": [
    {
     "name": "stdout",
     "output_type": "stream",
     "text": [
      "Betas for XIC: 0.8, SHOPIFY: 1.2, Tesla: 1.3, Vanguard: 0.87\n"
     ]
    }
   ],
   "source": [
    "print('Betas for XIC: {:1.2}, SHOPIFY: {:1.2}, Tesla: {:1.2}, Vanguard: {:1.2}'.format(beta_xic, beta_shop, beta_tsla, beta_vfv))"
   ]
  },
  {
   "cell_type": "markdown",
   "metadata": {},
   "source": [
    "### Calculating Beta - Method 2"
   ]
  },
  {
   "cell_type": "code",
   "execution_count": 12,
   "metadata": {},
   "outputs": [],
   "source": [
    "def calc_return(df):\n",
    "    '''Function to generate a detaframe with returns\n",
    "    - Input: Dataframe with raw stock data\n",
    "    - Output: Dataframe with returns'''\n",
    "\n",
    "    x = df.copy()\n",
    "    \n",
    "    for i in range(1, len(df)):\n",
    "        x.iloc[i] = (df.iloc[i] - df.iloc[i-1]) / df.iloc[i-1] * 100\n",
    "\n",
    "    x.iloc[0] = 0\n",
    "\n",
    "    return x"
   ]
  },
  {
   "cell_type": "code",
   "execution_count": 13,
   "metadata": {},
   "outputs": [
    {
     "data": {
      "text/html": [
       "<div>\n",
       "<style scoped>\n",
       "    .dataframe tbody tr th:only-of-type {\n",
       "        vertical-align: middle;\n",
       "    }\n",
       "\n",
       "    .dataframe tbody tr th {\n",
       "        vertical-align: top;\n",
       "    }\n",
       "\n",
       "    .dataframe thead th {\n",
       "        text-align: right;\n",
       "    }\n",
       "</style>\n",
       "<table border=\"1\" class=\"dataframe\">\n",
       "  <thead>\n",
       "    <tr style=\"text-align: right;\">\n",
       "      <th>Symbols</th>\n",
       "      <th>XIC.TO</th>\n",
       "      <th>^GSPC</th>\n",
       "      <th>SHOP</th>\n",
       "      <th>TSLA</th>\n",
       "      <th>VFV.TO</th>\n",
       "    </tr>\n",
       "    <tr>\n",
       "      <th>Date</th>\n",
       "      <th></th>\n",
       "      <th></th>\n",
       "      <th></th>\n",
       "      <th></th>\n",
       "      <th></th>\n",
       "    </tr>\n",
       "  </thead>\n",
       "  <tbody>\n",
       "    <tr>\n",
       "      <th>2018-12-24</th>\n",
       "      <td>0.000000</td>\n",
       "      <td>0.000000</td>\n",
       "      <td>0.000000</td>\n",
       "      <td>0.000000</td>\n",
       "      <td>0.000000</td>\n",
       "    </tr>\n",
       "    <tr>\n",
       "      <th>2018-12-26</th>\n",
       "      <td>NaN</td>\n",
       "      <td>4.959374</td>\n",
       "      <td>9.328303</td>\n",
       "      <td>10.393045</td>\n",
       "      <td>NaN</td>\n",
       "    </tr>\n",
       "    <tr>\n",
       "      <th>2018-12-27</th>\n",
       "      <td>NaN</td>\n",
       "      <td>0.856268</td>\n",
       "      <td>1.681889</td>\n",
       "      <td>-3.054372</td>\n",
       "      <td>NaN</td>\n",
       "    </tr>\n",
       "    <tr>\n",
       "      <th>2018-12-28</th>\n",
       "      <td>0.569336</td>\n",
       "      <td>-0.124158</td>\n",
       "      <td>0.800614</td>\n",
       "      <td>5.611616</td>\n",
       "      <td>0.543027</td>\n",
       "    </tr>\n",
       "    <tr>\n",
       "      <th>2018-12-31</th>\n",
       "      <td>0.796108</td>\n",
       "      <td>0.849248</td>\n",
       "      <td>3.738940</td>\n",
       "      <td>-0.320491</td>\n",
       "      <td>0.182244</td>\n",
       "    </tr>\n",
       "    <tr>\n",
       "      <th>...</th>\n",
       "      <td>...</td>\n",
       "      <td>...</td>\n",
       "      <td>...</td>\n",
       "      <td>...</td>\n",
       "      <td>...</td>\n",
       "    </tr>\n",
       "    <tr>\n",
       "      <th>2021-12-20</th>\n",
       "      <td>-0.965891</td>\n",
       "      <td>-1.138806</td>\n",
       "      <td>-3.115459</td>\n",
       "      <td>-3.498934</td>\n",
       "      <td>-0.811628</td>\n",
       "    </tr>\n",
       "    <tr>\n",
       "      <th>2021-12-21</th>\n",
       "      <td>1.859179</td>\n",
       "      <td>1.777793</td>\n",
       "      <td>6.858680</td>\n",
       "      <td>4.288067</td>\n",
       "      <td>1.569935</td>\n",
       "    </tr>\n",
       "    <tr>\n",
       "      <th>2021-12-22</th>\n",
       "      <td>0.718138</td>\n",
       "      <td>1.018020</td>\n",
       "      <td>1.132757</td>\n",
       "      <td>7.494695</td>\n",
       "      <td>0.374709</td>\n",
       "    </tr>\n",
       "    <tr>\n",
       "      <th>2021-12-23</th>\n",
       "      <td>0.772425</td>\n",
       "      <td>0.622370</td>\n",
       "      <td>3.875490</td>\n",
       "      <td>5.761893</td>\n",
       "      <td>0.401307</td>\n",
       "    </tr>\n",
       "    <tr>\n",
       "      <th>2021-12-24</th>\n",
       "      <td>0.058964</td>\n",
       "      <td>NaN</td>\n",
       "      <td>NaN</td>\n",
       "      <td>NaN</td>\n",
       "      <td>0.139433</td>\n",
       "    </tr>\n",
       "  </tbody>\n",
       "</table>\n",
       "<p>770 rows × 5 columns</p>\n",
       "</div>"
      ],
      "text/plain": [
       "Symbols       XIC.TO     ^GSPC      SHOP       TSLA    VFV.TO\n",
       "Date                                                         \n",
       "2018-12-24  0.000000  0.000000  0.000000   0.000000  0.000000\n",
       "2018-12-26       NaN  4.959374  9.328303  10.393045       NaN\n",
       "2018-12-27       NaN  0.856268  1.681889  -3.054372       NaN\n",
       "2018-12-28  0.569336 -0.124158  0.800614   5.611616  0.543027\n",
       "2018-12-31  0.796108  0.849248  3.738940  -0.320491  0.182244\n",
       "...              ...       ...       ...        ...       ...\n",
       "2021-12-20 -0.965891 -1.138806 -3.115459  -3.498934 -0.811628\n",
       "2021-12-21  1.859179  1.777793  6.858680   4.288067  1.569935\n",
       "2021-12-22  0.718138  1.018020  1.132757   7.494695  0.374709\n",
       "2021-12-23  0.772425  0.622370  3.875490   5.761893  0.401307\n",
       "2021-12-24  0.058964       NaN       NaN        NaN  0.139433\n",
       "\n",
       "[770 rows x 5 columns]"
      ]
     },
     "execution_count": 13,
     "metadata": {},
     "output_type": "execute_result"
    }
   ],
   "source": [
    "df_returns_alt = calc_return(df_stocks)\n",
    "df_returns_alt"
   ]
  },
  {
   "cell_type": "code",
   "execution_count": 18,
   "metadata": {},
   "outputs": [],
   "source": [
    "# NaN values will lead to an error in the polyfit calculation, so these values will be replaced with the previous values.\n",
    "df_returns_alt.fillna(method=\"ffill\", inplace=True)"
   ]
  },
  {
   "cell_type": "code",
   "execution_count": 16,
   "metadata": {},
   "outputs": [],
   "source": [
    "beta_xic_a, alpha_xic_a = np.polyfit(df_returns_alt['^GSPC'], df_returns_alt['XIC.TO'], 1)\n",
    "beta_shop_a, alpha_shop_a = np.polyfit(df_returns_alt['^GSPC'], df_returns_alt['SHOP'], 1)\n",
    "beta_tsla_a, alpha_tsla_a = np.polyfit(df_returns_alt['^GSPC'], df_returns_alt['TSLA'], 1)\n",
    "beta_vfv_a, alpha_vfv_a = np.polyfit(df_returns_alt['^GSPC'], df_returns_alt['VFV.TO'], 1)"
   ]
  },
  {
   "cell_type": "code",
   "execution_count": 17,
   "metadata": {},
   "outputs": [
    {
     "name": "stdout",
     "output_type": "stream",
     "text": [
      "Betas for XIC: 0.76, SHOPIFY: 1.2, Tesla: 1.3, Vanguard: 0.84\n"
     ]
    }
   ],
   "source": [
    "print('Betas for XIC: {:1.2}, SHOPIFY: {:1.2}, Tesla: {:1.2}, Vanguard: {:1.2}'.format(beta_xic_a, beta_shop_a, beta_tsla_a, beta_vfv_a))"
   ]
  },
  {
   "cell_type": "markdown",
   "metadata": {},
   "source": [
    "The results are slightly different, but close enough for the evaluation. This means it doesn't matter which methods are used in this case."
   ]
  },
  {
   "cell_type": "markdown",
   "metadata": {},
   "source": [
    "### Visualizing Beta"
   ]
  },
  {
   "cell_type": "code",
   "execution_count": 19,
   "metadata": {},
   "outputs": [
    {
     "data": {
      "image/png": "[encoded data removed]",
      "text/plain": [
       "<Figure size 720x720 with 1 Axes>"
      ]
     },
     "metadata": {
      "needs_background": "light"
     },
     "output_type": "display_data"
    }
   ],
   "source": [
    "df_returns_alt.plot(kind='scatter', x = '^GSPC', y='XIC.TO', figsize=(10, 10))\n",
    "plt.plot(df_returns_alt['^GSPC'], beta_xic_a * df_returns_alt['^GSPC'] + alpha_xic_a, '-', color='red')\n",
    "plt.grid();"
   ]
  },
  {
   "cell_type": "code",
   "execution_count": null,
   "metadata": {},
   "outputs": [],
   "source": []
  },
  {
   "cell_type": "code",
   "execution_count": null,
   "metadata": {},
   "outputs": [],
   "source": []
  },
  {
   "cell_type": "markdown",
   "metadata": {},
   "source": [
    "## 3. Calculating the Expected Rate of Return\n",
    "The expected rate of return expresses a potential return rate that considers the relation to a risk free asset, the relation to the market (in our case S&P 500), and the Beta indicator."
   ]
  },
  {
   "cell_type": "markdown",
   "metadata": {},
   "source": [
    "![GitHub Logo](https://capital.com/files/glossary/[Infographic]%20Capital%20asset%20pricing%20model.png)"
   ]
  },
  {
   "cell_type": "markdown",
   "metadata": {},
   "source": [
    "### Process\n",
    "- Calculate the average market return for a year (Up to this point we dealt with daily returns.).\n",
    "- \n"
   ]
  }
 ],
 "metadata": {
  "interpreter": {
   "hash": "dcacb0086e9a4f4eabd41c33bf4faac5ea0a3337ed3f5eff0680afa930572c04"
  },
  "kernelspec": {
   "display_name": "Python 3.9.4 64-bit",
   "language": "python",
   "name": "python3"
  },
  "language_info": {
   "codemirror_mode": {
    "name": "ipython",
    "version": 3
   },
   "file_extension": ".py",
   "mimetype": "text/x-python",
   "name": "python",
   "nbconvert_exporter": "python",
   "pygments_lexer": "ipython3",
   "version": "3.9.4"
  },
  "orig_nbformat": 4
 },
 "nbformat": 4,
 "nbformat_minor": 2
}
