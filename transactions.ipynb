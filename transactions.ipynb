{
 "cells": [
  {
   "cell_type": "markdown",
   "metadata": {},
   "source": [
    "# Basic Stock Analysis\n",
    "\n",
    "How to evaluate the performance of your assets?\n",
    "Optimize your portfolio by reviewing the statistics of your stocks.\n",
    "\n",
    "### 1. Importing Libraries"
   ]
  },
  {
   "cell_type": "code",
   "execution_count": 2,
   "metadata": {},
   "outputs": [],
   "source": [
    "import pandas_datareader as pdr\n",
    "import numpy as np\n",
    "import datetime as dt\n",
    "import pandas as pd\n",
    "from sklearn.linear_model import LinearRegression"
   ]
  },
  {
   "cell_type": "markdown",
   "metadata": {},
   "source": [
    "### 2. Calculating Beta\n",
    "Beta expresses how \"dynamic\" an asset reacts to market fluctuations. A high beta means high risk, but also high opportunity, depending on the market.\n",
    "- Beta < 1: More stable, but also less growth opportunity\n",
    "- Beta > 1: More risky, but also more gain opportunity\n",
    "\n",
    "#### Method\n",
    "- Get raw stock data of the market and the stocks of interest (can be 1 year, 3 years or other timeframe). Typically the S&P500 (Symbol \"^GSPC\") is used as the representation of the market data.\n",
    "- Transform raw data into a dataframe with returns\n",
    "- Calculate Beta\n",
    "- Calculate the expected rate of return (CAPM method)\n",
    "- Interprete the results"
   ]
  },
  {
   "cell_type": "code",
   "execution_count": 47,
   "metadata": {},
   "outputs": [],
   "source": [
    "def calc_return(df):\n",
    "    '''Function to generate a detaframe with returns\n",
    "    - Input: Dataframe with raw stock data\n",
    "    - Output: Dataframe with returns'''\n",
    "\n",
    "    x = df.copy()\n",
    "    \n",
    "    for i in range(1, len(df)):\n",
    "        x.iloc[i] = (df.iloc[i] - df.iloc[i-1]) / df.iloc[i-1] * 100\n",
    "\n",
    "    x.iloc[0] = 0\n",
    "\n",
    "    return x\n",
    "\n",
    "# Alternative way:\n",
    "# log_returns = np.log(data / data.shift())"
   ]
  },
  {
   "cell_type": "code",
   "execution_count": 75,
   "metadata": {},
   "outputs": [
    {
     "data": {
      "text/html": [
       "<div>\n",
       "<style scoped>\n",
       "    .dataframe tbody tr th:only-of-type {\n",
       "        vertical-align: middle;\n",
       "    }\n",
       "\n",
       "    .dataframe tbody tr th {\n",
       "        vertical-align: top;\n",
       "    }\n",
       "\n",
       "    .dataframe thead th {\n",
       "        text-align: right;\n",
       "    }\n",
       "</style>\n",
       "<table border=\"1\" class=\"dataframe\">\n",
       "  <thead>\n",
       "    <tr style=\"text-align: right;\">\n",
       "      <th>Symbols</th>\n",
       "      <th>XIC.TO</th>\n",
       "      <th>^GSPC</th>\n",
       "      <th>SHOP</th>\n",
       "      <th>TSLA</th>\n",
       "      <th>VFV.TO</th>\n",
       "    </tr>\n",
       "    <tr>\n",
       "      <th>Date</th>\n",
       "      <th></th>\n",
       "      <th></th>\n",
       "      <th></th>\n",
       "      <th></th>\n",
       "      <th></th>\n",
       "    </tr>\n",
       "  </thead>\n",
       "  <tbody>\n",
       "    <tr>\n",
       "      <th>2018-12-24</th>\n",
       "      <td>20.099087</td>\n",
       "      <td>2351.100098</td>\n",
       "      <td>119.099998</td>\n",
       "      <td>59.077999</td>\n",
       "      <td>54.506882</td>\n",
       "    </tr>\n",
       "    <tr>\n",
       "      <th>2018-12-26</th>\n",
       "      <td>NaN</td>\n",
       "      <td>2467.699951</td>\n",
       "      <td>130.210007</td>\n",
       "      <td>65.218002</td>\n",
       "      <td>NaN</td>\n",
       "    </tr>\n",
       "    <tr>\n",
       "      <th>2018-12-27</th>\n",
       "      <td>20.646492</td>\n",
       "      <td>2488.830078</td>\n",
       "      <td>132.399994</td>\n",
       "      <td>63.226002</td>\n",
       "      <td>57.672108</td>\n",
       "    </tr>\n",
       "    <tr>\n",
       "      <th>2018-12-28</th>\n",
       "      <td>20.764044</td>\n",
       "      <td>2485.739990</td>\n",
       "      <td>133.460007</td>\n",
       "      <td>66.774002</td>\n",
       "      <td>57.985279</td>\n",
       "    </tr>\n",
       "    <tr>\n",
       "      <th>2018-12-31</th>\n",
       "      <td>20.929348</td>\n",
       "      <td>2506.850098</td>\n",
       "      <td>138.449997</td>\n",
       "      <td>66.559998</td>\n",
       "      <td>58.090946</td>\n",
       "    </tr>\n",
       "    <tr>\n",
       "      <th>...</th>\n",
       "      <td>...</td>\n",
       "      <td>...</td>\n",
       "      <td>...</td>\n",
       "      <td>...</td>\n",
       "      <td>...</td>\n",
       "    </tr>\n",
       "    <tr>\n",
       "      <th>2021-12-20</th>\n",
       "      <td>32.810001</td>\n",
       "      <td>4568.020020</td>\n",
       "      <td>1282.170044</td>\n",
       "      <td>899.940002</td>\n",
       "      <td>105.099998</td>\n",
       "    </tr>\n",
       "    <tr>\n",
       "      <th>2021-12-21</th>\n",
       "      <td>33.419998</td>\n",
       "      <td>4649.229980</td>\n",
       "      <td>1370.109985</td>\n",
       "      <td>938.530029</td>\n",
       "      <td>106.750000</td>\n",
       "    </tr>\n",
       "    <tr>\n",
       "      <th>2021-12-22</th>\n",
       "      <td>33.660000</td>\n",
       "      <td>4696.560059</td>\n",
       "      <td>1385.630005</td>\n",
       "      <td>1008.869995</td>\n",
       "      <td>107.150002</td>\n",
       "    </tr>\n",
       "    <tr>\n",
       "      <th>2021-12-23</th>\n",
       "      <td>33.919998</td>\n",
       "      <td>4725.790039</td>\n",
       "      <td>1439.329956</td>\n",
       "      <td>1067.000000</td>\n",
       "      <td>107.580002</td>\n",
       "    </tr>\n",
       "    <tr>\n",
       "      <th>2021-12-24</th>\n",
       "      <td>33.939999</td>\n",
       "      <td>NaN</td>\n",
       "      <td>NaN</td>\n",
       "      <td>NaN</td>\n",
       "      <td>107.730003</td>\n",
       "    </tr>\n",
       "  </tbody>\n",
       "</table>\n",
       "<p>770 rows × 5 columns</p>\n",
       "</div>"
      ],
      "text/plain": [
       "Symbols        XIC.TO        ^GSPC         SHOP         TSLA      VFV.TO\n",
       "Date                                                                    \n",
       "2018-12-24  20.099087  2351.100098   119.099998    59.077999   54.506882\n",
       "2018-12-26        NaN  2467.699951   130.210007    65.218002         NaN\n",
       "2018-12-27  20.646492  2488.830078   132.399994    63.226002   57.672108\n",
       "2018-12-28  20.764044  2485.739990   133.460007    66.774002   57.985279\n",
       "2018-12-31  20.929348  2506.850098   138.449997    66.559998   58.090946\n",
       "...               ...          ...          ...          ...         ...\n",
       "2021-12-20  32.810001  4568.020020  1282.170044   899.940002  105.099998\n",
       "2021-12-21  33.419998  4649.229980  1370.109985   938.530029  106.750000\n",
       "2021-12-22  33.660000  4696.560059  1385.630005  1008.869995  107.150002\n",
       "2021-12-23  33.919998  4725.790039  1439.329956  1067.000000  107.580002\n",
       "2021-12-24  33.939999          NaN          NaN          NaN  107.730003\n",
       "\n",
       "[770 rows x 5 columns]"
      ]
     },
     "execution_count": 75,
     "metadata": {},
     "output_type": "execute_result"
    }
   ],
   "source": [
    "tickers = ['XIC.TO', '^GSPC', 'SHOP', 'TSLA', 'VFV.TO']\n",
    "start = dt.datetime(2018, 12, 24)\n",
    "end = dt.datetime(2021, 12, 24)\n",
    "df_stocks = pdr.get_data_yahoo(tickers, start, end, interval=\"d\")\n",
    "\n",
    "df_stocks = df_stocks['Adj Close']\n",
    "\n",
    "df_stocks"
   ]
  },
  {
   "cell_type": "code",
   "execution_count": 76,
   "metadata": {},
   "outputs": [],
   "source": [
    "# generating dataframe with returns by using the alternative way\n",
    "df_returns = np.log(df_stocks / df_stocks.shift())"
   ]
  },
  {
   "cell_type": "markdown",
   "metadata": {},
   "source": [
    "### Calculating Beta"
   ]
  },
  {
   "cell_type": "code",
   "execution_count": 77,
   "metadata": {},
   "outputs": [],
   "source": [
    "cov = log_returns.cov()\n",
    "var = log_returns['^GSPC'].var()\n",
    "beta_xic = cov.loc['XIC.TO', '^GSPC'] / var\n",
    "beta_shop = cov.loc['SHOP', '^GSPC'] / var\n",
    "beta_tsla = cov.loc['TSLA', '^GSPC'] / var\n",
    "beta_vfv = cov.loc['VFV.TO', '^GSPC'] / var"
   ]
  },
  {
   "cell_type": "code",
   "execution_count": 78,
   "metadata": {},
   "outputs": [
    {
     "name": "stdout",
     "output_type": "stream",
     "text": [
      "Betas for XIC: 0.79, SHOPIFY: 1.2, Tesla: 1.3, Vanguard: 0.88\n"
     ]
    }
   ],
   "source": [
    "print('Betas for XIC: {:1.2}, SHOPIFY: {:1.2}, Tesla: {:1.2}, Vanguard: {:1.2}'.format(beta_xic, beta_shop, beta_tsla, beta_vfv))"
   ]
  },
  {
   "cell_type": "code",
   "execution_count": null,
   "metadata": {},
   "outputs": [],
   "source": []
  }
 ],
 "metadata": {
  "interpreter": {
   "hash": "dcacb0086e9a4f4eabd41c33bf4faac5ea0a3337ed3f5eff0680afa930572c04"
  },
  "kernelspec": {
   "display_name": "Python 3.9.4 64-bit",
   "language": "python",
   "name": "python3"
  },
  "language_info": {
   "codemirror_mode": {
    "name": "ipython",
    "version": 3
   },
   "file_extension": ".py",
   "mimetype": "text/x-python",
   "name": "python",
   "nbconvert_exporter": "python",
   "pygments_lexer": "ipython3",
   "version": "3.9.4"
  },
  "orig_nbformat": 4
 },
 "nbformat": 4,
 "nbformat_minor": 2
}
