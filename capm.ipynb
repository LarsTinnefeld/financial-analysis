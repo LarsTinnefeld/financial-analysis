{
 "cells": [
  {
   "cell_type": "markdown",
   "metadata": {},
   "source": [
    "# CAPM for basic stock analysis\n",
    "\n",
    "### About CAPM\n",
    "How to evaluate the performance of your assets?\n",
    "Optimize your portfolio by reviewing the statistics of your stocks.\n",
    "\n",
    "The goal is to generate an objective measure to validate the potential win against the risk. This method is know as the CAPM method. What we would like to see:\n",
    "- Risk?\n",
    "- Opportunity?\n",
    "- Is the asset over- or under valued? (undervalued = potential that it will do well in the future)\n",
    "\n",
    "### Objectives\n",
    "...\n",
    "\n",
    "### Approach\n",
    "1. Import libraries\n",
    "2. Data and data preparation\n",
    "2. Calculate Beta\n",
    "3. Calculate the expected rate of return (CAPM method)\n",
    "4. Interprete the results"
   ]
  },
  {
   "cell_type": "markdown",
   "metadata": {},
   "source": [
    "## 1. Importing Libraries"
   ]
  },
  {
   "cell_type": "code",
   "execution_count": 1,
   "metadata": {},
   "outputs": [],
   "source": [
    "import pandas_datareader as pdr\n",
    "import numpy as np\n",
    "import datetime as dt\n",
    "import pandas as pd\n",
    "from sklearn.linear_model import LinearRegression\n",
    "\n",
    "import matplotlib.pyplot as plt\n",
    "import seaborn as sns\n",
    "\n",
    "%matplotlib inline"
   ]
  },
  {
   "cell_type": "markdown",
   "metadata": {},
   "source": [
    "## 2. Data\n",
    "\n",
    "### Steps\n",
    "- Get raw stock data of the market and the stocks of interest (can be 1 year, 3 years or other timeframe).\n",
    "- Typically the S&P500 (Symbol \"^GSPC\") is used as the representation of the market data.\n",
    "- Transform raw data into a dataframe with returns"
   ]
  },
  {
   "cell_type": "code",
   "execution_count": 3,
   "metadata": {},
   "outputs": [
    {
     "data": {
      "text/html": [
       "<div>\n",
       "<style scoped>\n",
       "    .dataframe tbody tr th:only-of-type {\n",
       "        vertical-align: middle;\n",
       "    }\n",
       "\n",
       "    .dataframe tbody tr th {\n",
       "        vertical-align: top;\n",
       "    }\n",
       "\n",
       "    .dataframe thead th {\n",
       "        text-align: right;\n",
       "    }\n",
       "</style>\n",
       "<table border=\"1\" class=\"dataframe\">\n",
       "  <thead>\n",
       "    <tr style=\"text-align: right;\">\n",
       "      <th>Symbols</th>\n",
       "      <th>XIC.TO</th>\n",
       "      <th>^GSPC</th>\n",
       "      <th>SHOP</th>\n",
       "      <th>TSLA</th>\n",
       "      <th>VFV.TO</th>\n",
       "      <th>VDY.TO</th>\n",
       "    </tr>\n",
       "    <tr>\n",
       "      <th>Date</th>\n",
       "      <th></th>\n",
       "      <th></th>\n",
       "      <th></th>\n",
       "      <th></th>\n",
       "      <th></th>\n",
       "      <th></th>\n",
       "    </tr>\n",
       "  </thead>\n",
       "  <tbody>\n",
       "    <tr>\n",
       "      <th>2018-12-24</th>\n",
       "      <td>20.099085</td>\n",
       "      <td>2351.100098</td>\n",
       "      <td>119.099998</td>\n",
       "      <td>59.077999</td>\n",
       "      <td>54.506878</td>\n",
       "      <td>25.446144</td>\n",
       "    </tr>\n",
       "    <tr>\n",
       "      <th>2018-12-26</th>\n",
       "      <td>NaN</td>\n",
       "      <td>2467.699951</td>\n",
       "      <td>130.210007</td>\n",
       "      <td>65.218002</td>\n",
       "      <td>NaN</td>\n",
       "      <td>NaN</td>\n",
       "    </tr>\n",
       "    <tr>\n",
       "      <th>2018-12-27</th>\n",
       "      <td>20.646490</td>\n",
       "      <td>2488.830078</td>\n",
       "      <td>132.399994</td>\n",
       "      <td>63.226002</td>\n",
       "      <td>57.672100</td>\n",
       "      <td>26.051165</td>\n",
       "    </tr>\n",
       "    <tr>\n",
       "      <th>2018-12-28</th>\n",
       "      <td>20.764046</td>\n",
       "      <td>2485.739990</td>\n",
       "      <td>133.460007</td>\n",
       "      <td>66.774002</td>\n",
       "      <td>57.985271</td>\n",
       "      <td>26.280577</td>\n",
       "    </tr>\n",
       "    <tr>\n",
       "      <th>2018-12-31</th>\n",
       "      <td>20.929350</td>\n",
       "      <td>2506.850098</td>\n",
       "      <td>138.449997</td>\n",
       "      <td>66.559998</td>\n",
       "      <td>58.090950</td>\n",
       "      <td>26.368469</td>\n",
       "    </tr>\n",
       "    <tr>\n",
       "      <th>...</th>\n",
       "      <td>...</td>\n",
       "      <td>...</td>\n",
       "      <td>...</td>\n",
       "      <td>...</td>\n",
       "      <td>...</td>\n",
       "      <td>...</td>\n",
       "    </tr>\n",
       "    <tr>\n",
       "      <th>2021-12-20</th>\n",
       "      <td>32.810001</td>\n",
       "      <td>4568.020020</td>\n",
       "      <td>1282.170044</td>\n",
       "      <td>899.940002</td>\n",
       "      <td>105.099998</td>\n",
       "      <td>41.880001</td>\n",
       "    </tr>\n",
       "    <tr>\n",
       "      <th>2021-12-21</th>\n",
       "      <td>33.419998</td>\n",
       "      <td>4649.229980</td>\n",
       "      <td>1370.109985</td>\n",
       "      <td>938.530029</td>\n",
       "      <td>106.750000</td>\n",
       "      <td>42.380001</td>\n",
       "    </tr>\n",
       "    <tr>\n",
       "      <th>2021-12-22</th>\n",
       "      <td>33.660000</td>\n",
       "      <td>4696.560059</td>\n",
       "      <td>1385.630005</td>\n",
       "      <td>1008.869995</td>\n",
       "      <td>107.150002</td>\n",
       "      <td>42.680000</td>\n",
       "    </tr>\n",
       "    <tr>\n",
       "      <th>2021-12-23</th>\n",
       "      <td>33.919998</td>\n",
       "      <td>4725.790039</td>\n",
       "      <td>1439.329956</td>\n",
       "      <td>1067.000000</td>\n",
       "      <td>107.580002</td>\n",
       "      <td>42.939999</td>\n",
       "    </tr>\n",
       "    <tr>\n",
       "      <th>2021-12-24</th>\n",
       "      <td>33.939999</td>\n",
       "      <td>NaN</td>\n",
       "      <td>NaN</td>\n",
       "      <td>NaN</td>\n",
       "      <td>107.730003</td>\n",
       "      <td>43.009998</td>\n",
       "    </tr>\n",
       "  </tbody>\n",
       "</table>\n",
       "<p>770 rows × 6 columns</p>\n",
       "</div>"
      ],
      "text/plain": [
       "Symbols        XIC.TO        ^GSPC         SHOP         TSLA      VFV.TO  \\\n",
       "Date                                                                       \n",
       "2018-12-24  20.099085  2351.100098   119.099998    59.077999   54.506878   \n",
       "2018-12-26        NaN  2467.699951   130.210007    65.218002         NaN   \n",
       "2018-12-27  20.646490  2488.830078   132.399994    63.226002   57.672100   \n",
       "2018-12-28  20.764046  2485.739990   133.460007    66.774002   57.985271   \n",
       "2018-12-31  20.929350  2506.850098   138.449997    66.559998   58.090950   \n",
       "...               ...          ...          ...          ...         ...   \n",
       "2021-12-20  32.810001  4568.020020  1282.170044   899.940002  105.099998   \n",
       "2021-12-21  33.419998  4649.229980  1370.109985   938.530029  106.750000   \n",
       "2021-12-22  33.660000  4696.560059  1385.630005  1008.869995  107.150002   \n",
       "2021-12-23  33.919998  4725.790039  1439.329956  1067.000000  107.580002   \n",
       "2021-12-24  33.939999          NaN          NaN          NaN  107.730003   \n",
       "\n",
       "Symbols        VDY.TO  \n",
       "Date                   \n",
       "2018-12-24  25.446144  \n",
       "2018-12-26        NaN  \n",
       "2018-12-27  26.051165  \n",
       "2018-12-28  26.280577  \n",
       "2018-12-31  26.368469  \n",
       "...               ...  \n",
       "2021-12-20  41.880001  \n",
       "2021-12-21  42.380001  \n",
       "2021-12-22  42.680000  \n",
       "2021-12-23  42.939999  \n",
       "2021-12-24  43.009998  \n",
       "\n",
       "[770 rows x 6 columns]"
      ]
     },
     "execution_count": 3,
     "metadata": {},
     "output_type": "execute_result"
    }
   ],
   "source": [
    "tickers = ['XIC.TO', '^GSPC', 'SHOP', 'TSLA', 'VFV.TO', 'VDY.TO']\n",
    "start = dt.datetime(2018, 12, 24)\n",
    "end = dt.datetime(2021, 12, 24)\n",
    "df_stocks = pdr.get_data_yahoo(tickers, start, end, interval=\"d\")\n",
    "\n",
    "df_stocks = df_stocks['Adj Close']\n",
    "\n",
    "df_stocks"
   ]
  },
  {
   "cell_type": "code",
   "execution_count": 4,
   "metadata": {},
   "outputs": [
    {
     "data": {
      "text/plain": [
       "Symbols\n",
       "XIC.TO    15\n",
       "^GSPC     13\n",
       "SHOP      13\n",
       "TSLA      13\n",
       "VFV.TO    15\n",
       "VDY.TO    15\n",
       "dtype: int64"
      ]
     },
     "execution_count": 4,
     "metadata": {},
     "output_type": "execute_result"
    }
   ],
   "source": [
    "# Checking how many missing NaN\n",
    "df_stocks.isna().sum()"
   ]
  },
  {
   "cell_type": "code",
   "execution_count": 10,
   "metadata": {},
   "outputs": [
    {
     "name": "stdout",
     "output_type": "stream",
     "text": [
      "False\n",
      "770\n",
      "770\n"
     ]
    }
   ],
   "source": [
    "# Checking if there are double-dates (divident stocks might show date a second time for the divident value)\n",
    "print(df_stocks.index.has_duplicates)\n",
    "print(df_stocks.index.nunique())\n",
    "print(len(df_stocks))"
   ]
  },
  {
   "cell_type": "code",
   "execution_count": 11,
   "metadata": {},
   "outputs": [
    {
     "data": {
      "text/html": [
       "<div>\n",
       "<style scoped>\n",
       "    .dataframe tbody tr th:only-of-type {\n",
       "        vertical-align: middle;\n",
       "    }\n",
       "\n",
       "    .dataframe tbody tr th {\n",
       "        vertical-align: top;\n",
       "    }\n",
       "\n",
       "    .dataframe thead th {\n",
       "        text-align: right;\n",
       "    }\n",
       "</style>\n",
       "<table border=\"1\" class=\"dataframe\">\n",
       "  <thead>\n",
       "    <tr style=\"text-align: right;\">\n",
       "      <th>Symbols</th>\n",
       "      <th>XIC.TO</th>\n",
       "      <th>^GSPC</th>\n",
       "      <th>SHOP</th>\n",
       "      <th>TSLA</th>\n",
       "      <th>VFV.TO</th>\n",
       "      <th>VDY.TO</th>\n",
       "    </tr>\n",
       "    <tr>\n",
       "      <th>Date</th>\n",
       "      <th></th>\n",
       "      <th></th>\n",
       "      <th></th>\n",
       "      <th></th>\n",
       "      <th></th>\n",
       "      <th></th>\n",
       "    </tr>\n",
       "  </thead>\n",
       "  <tbody>\n",
       "    <tr>\n",
       "      <th>2018-12-24</th>\n",
       "      <td>20.099085</td>\n",
       "      <td>2351.100098</td>\n",
       "      <td>119.099998</td>\n",
       "      <td>59.077999</td>\n",
       "      <td>54.506878</td>\n",
       "      <td>25.446144</td>\n",
       "    </tr>\n",
       "    <tr>\n",
       "      <th>2018-12-26</th>\n",
       "      <td>20.099085</td>\n",
       "      <td>2467.699951</td>\n",
       "      <td>130.210007</td>\n",
       "      <td>65.218002</td>\n",
       "      <td>54.506878</td>\n",
       "      <td>25.446144</td>\n",
       "    </tr>\n",
       "    <tr>\n",
       "      <th>2018-12-27</th>\n",
       "      <td>20.646490</td>\n",
       "      <td>2488.830078</td>\n",
       "      <td>132.399994</td>\n",
       "      <td>63.226002</td>\n",
       "      <td>57.672100</td>\n",
       "      <td>26.051165</td>\n",
       "    </tr>\n",
       "    <tr>\n",
       "      <th>2018-12-28</th>\n",
       "      <td>20.764046</td>\n",
       "      <td>2485.739990</td>\n",
       "      <td>133.460007</td>\n",
       "      <td>66.774002</td>\n",
       "      <td>57.985271</td>\n",
       "      <td>26.280577</td>\n",
       "    </tr>\n",
       "    <tr>\n",
       "      <th>2018-12-31</th>\n",
       "      <td>20.929350</td>\n",
       "      <td>2506.850098</td>\n",
       "      <td>138.449997</td>\n",
       "      <td>66.559998</td>\n",
       "      <td>58.090950</td>\n",
       "      <td>26.368469</td>\n",
       "    </tr>\n",
       "    <tr>\n",
       "      <th>...</th>\n",
       "      <td>...</td>\n",
       "      <td>...</td>\n",
       "      <td>...</td>\n",
       "      <td>...</td>\n",
       "      <td>...</td>\n",
       "      <td>...</td>\n",
       "    </tr>\n",
       "    <tr>\n",
       "      <th>2021-12-20</th>\n",
       "      <td>32.810001</td>\n",
       "      <td>4568.020020</td>\n",
       "      <td>1282.170044</td>\n",
       "      <td>899.940002</td>\n",
       "      <td>105.099998</td>\n",
       "      <td>41.880001</td>\n",
       "    </tr>\n",
       "    <tr>\n",
       "      <th>2021-12-21</th>\n",
       "      <td>33.419998</td>\n",
       "      <td>4649.229980</td>\n",
       "      <td>1370.109985</td>\n",
       "      <td>938.530029</td>\n",
       "      <td>106.750000</td>\n",
       "      <td>42.380001</td>\n",
       "    </tr>\n",
       "    <tr>\n",
       "      <th>2021-12-22</th>\n",
       "      <td>33.660000</td>\n",
       "      <td>4696.560059</td>\n",
       "      <td>1385.630005</td>\n",
       "      <td>1008.869995</td>\n",
       "      <td>107.150002</td>\n",
       "      <td>42.680000</td>\n",
       "    </tr>\n",
       "    <tr>\n",
       "      <th>2021-12-23</th>\n",
       "      <td>33.919998</td>\n",
       "      <td>4725.790039</td>\n",
       "      <td>1439.329956</td>\n",
       "      <td>1067.000000</td>\n",
       "      <td>107.580002</td>\n",
       "      <td>42.939999</td>\n",
       "    </tr>\n",
       "    <tr>\n",
       "      <th>2021-12-24</th>\n",
       "      <td>33.939999</td>\n",
       "      <td>4725.790039</td>\n",
       "      <td>1439.329956</td>\n",
       "      <td>1067.000000</td>\n",
       "      <td>107.730003</td>\n",
       "      <td>43.009998</td>\n",
       "    </tr>\n",
       "  </tbody>\n",
       "</table>\n",
       "<p>770 rows × 6 columns</p>\n",
       "</div>"
      ],
      "text/plain": [
       "Symbols        XIC.TO        ^GSPC         SHOP         TSLA      VFV.TO  \\\n",
       "Date                                                                       \n",
       "2018-12-24  20.099085  2351.100098   119.099998    59.077999   54.506878   \n",
       "2018-12-26  20.099085  2467.699951   130.210007    65.218002   54.506878   \n",
       "2018-12-27  20.646490  2488.830078   132.399994    63.226002   57.672100   \n",
       "2018-12-28  20.764046  2485.739990   133.460007    66.774002   57.985271   \n",
       "2018-12-31  20.929350  2506.850098   138.449997    66.559998   58.090950   \n",
       "...               ...          ...          ...          ...         ...   \n",
       "2021-12-20  32.810001  4568.020020  1282.170044   899.940002  105.099998   \n",
       "2021-12-21  33.419998  4649.229980  1370.109985   938.530029  106.750000   \n",
       "2021-12-22  33.660000  4696.560059  1385.630005  1008.869995  107.150002   \n",
       "2021-12-23  33.919998  4725.790039  1439.329956  1067.000000  107.580002   \n",
       "2021-12-24  33.939999  4725.790039  1439.329956  1067.000000  107.730003   \n",
       "\n",
       "Symbols        VDY.TO  \n",
       "Date                   \n",
       "2018-12-24  25.446144  \n",
       "2018-12-26  25.446144  \n",
       "2018-12-27  26.051165  \n",
       "2018-12-28  26.280577  \n",
       "2018-12-31  26.368469  \n",
       "...               ...  \n",
       "2021-12-20  41.880001  \n",
       "2021-12-21  42.380001  \n",
       "2021-12-22  42.680000  \n",
       "2021-12-23  42.939999  \n",
       "2021-12-24  43.009998  \n",
       "\n",
       "[770 rows x 6 columns]"
      ]
     },
     "execution_count": 11,
     "metadata": {},
     "output_type": "execute_result"
    }
   ],
   "source": [
    "# No duplicated dates\n",
    "# 1.9% NaN for specific stocks; it is not a big impact to fill these gaps\n",
    "df_stocks.fillna(method=\"ffill\", inplace=True)\n",
    "df_stocks"
   ]
  },
  {
   "cell_type": "markdown",
   "metadata": {},
   "source": [
    "## 3. Calculating Beta\n",
    "Beta expresses how \"dynamic\" an asset reacts to market fluctuations. A high beta means high risk, but also high opportunity, depending on the market.\n",
    "- Beta < 1: More stable, but also less growth opportunity\n",
    "- Beta > 1: More risky, but also higher win opportunity"
   ]
  },
  {
   "cell_type": "markdown",
   "metadata": {},
   "source": [
    "### Calculating Beta - Method 1"
   ]
  },
  {
   "cell_type": "code",
   "execution_count": 14,
   "metadata": {},
   "outputs": [
    {
     "data": {
      "text/html": [
       "<div>\n",
       "<style scoped>\n",
       "    .dataframe tbody tr th:only-of-type {\n",
       "        vertical-align: middle;\n",
       "    }\n",
       "\n",
       "    .dataframe tbody tr th {\n",
       "        vertical-align: top;\n",
       "    }\n",
       "\n",
       "    .dataframe thead th {\n",
       "        text-align: right;\n",
       "    }\n",
       "</style>\n",
       "<table border=\"1\" class=\"dataframe\">\n",
       "  <thead>\n",
       "    <tr style=\"text-align: right;\">\n",
       "      <th>Symbols</th>\n",
       "      <th>XIC.TO</th>\n",
       "      <th>^GSPC</th>\n",
       "      <th>SHOP</th>\n",
       "      <th>TSLA</th>\n",
       "      <th>VFV.TO</th>\n",
       "      <th>VDY.TO</th>\n",
       "    </tr>\n",
       "    <tr>\n",
       "      <th>Date</th>\n",
       "      <th></th>\n",
       "      <th></th>\n",
       "      <th></th>\n",
       "      <th></th>\n",
       "      <th></th>\n",
       "      <th></th>\n",
       "    </tr>\n",
       "  </thead>\n",
       "  <tbody>\n",
       "    <tr>\n",
       "      <th>2018-12-24</th>\n",
       "      <td>0.000000</td>\n",
       "      <td>0.000000</td>\n",
       "      <td>0.000000</td>\n",
       "      <td>0.000000</td>\n",
       "      <td>0.000000</td>\n",
       "      <td>0.000000</td>\n",
       "    </tr>\n",
       "    <tr>\n",
       "      <th>2018-12-26</th>\n",
       "      <td>0.000000</td>\n",
       "      <td>4.840318</td>\n",
       "      <td>8.918512</td>\n",
       "      <td>9.887695</td>\n",
       "      <td>0.000000</td>\n",
       "      <td>0.000000</td>\n",
       "    </tr>\n",
       "    <tr>\n",
       "      <th>2018-12-27</th>\n",
       "      <td>2.687105</td>\n",
       "      <td>0.852623</td>\n",
       "      <td>1.667901</td>\n",
       "      <td>-3.101990</td>\n",
       "      <td>5.644663</td>\n",
       "      <td>2.349825</td>\n",
       "    </tr>\n",
       "    <tr>\n",
       "      <th>2018-12-28</th>\n",
       "      <td>0.567759</td>\n",
       "      <td>-0.124235</td>\n",
       "      <td>0.797426</td>\n",
       "      <td>5.459818</td>\n",
       "      <td>0.541552</td>\n",
       "      <td>0.876766</td>\n",
       "    </tr>\n",
       "    <tr>\n",
       "      <th>2018-12-31</th>\n",
       "      <td>0.792956</td>\n",
       "      <td>0.845663</td>\n",
       "      <td>3.670737</td>\n",
       "      <td>-0.321005</td>\n",
       "      <td>0.182085</td>\n",
       "      <td>0.333881</td>\n",
       "    </tr>\n",
       "    <tr>\n",
       "      <th>...</th>\n",
       "      <td>...</td>\n",
       "      <td>...</td>\n",
       "      <td>...</td>\n",
       "      <td>...</td>\n",
       "      <td>...</td>\n",
       "      <td>...</td>\n",
       "    </tr>\n",
       "    <tr>\n",
       "      <th>2021-12-20</th>\n",
       "      <td>-0.970586</td>\n",
       "      <td>-1.145340</td>\n",
       "      <td>-3.165021</td>\n",
       "      <td>-3.561613</td>\n",
       "      <td>-0.814939</td>\n",
       "      <td>-0.500177</td>\n",
       "    </tr>\n",
       "    <tr>\n",
       "      <th>2021-12-21</th>\n",
       "      <td>1.842108</td>\n",
       "      <td>1.762176</td>\n",
       "      <td>6.633703</td>\n",
       "      <td>4.198676</td>\n",
       "      <td>1.557739</td>\n",
       "      <td>1.186817</td>\n",
       "    </tr>\n",
       "    <tr>\n",
       "      <th>2021-12-22</th>\n",
       "      <td>0.715572</td>\n",
       "      <td>1.012873</td>\n",
       "      <td>1.126390</td>\n",
       "      <td>7.227131</td>\n",
       "      <td>0.374008</td>\n",
       "      <td>0.705386</td>\n",
       "    </tr>\n",
       "    <tr>\n",
       "      <th>2021-12-23</th>\n",
       "      <td>0.769457</td>\n",
       "      <td>0.620441</td>\n",
       "      <td>3.802278</td>\n",
       "      <td>5.602008</td>\n",
       "      <td>0.400504</td>\n",
       "      <td>0.607333</td>\n",
       "    </tr>\n",
       "    <tr>\n",
       "      <th>2021-12-24</th>\n",
       "      <td>0.058946</td>\n",
       "      <td>0.000000</td>\n",
       "      <td>0.000000</td>\n",
       "      <td>0.000000</td>\n",
       "      <td>0.139335</td>\n",
       "      <td>0.162885</td>\n",
       "    </tr>\n",
       "  </tbody>\n",
       "</table>\n",
       "<p>770 rows × 6 columns</p>\n",
       "</div>"
      ],
      "text/plain": [
       "Symbols       XIC.TO     ^GSPC      SHOP      TSLA    VFV.TO    VDY.TO\n",
       "Date                                                                  \n",
       "2018-12-24  0.000000  0.000000  0.000000  0.000000  0.000000  0.000000\n",
       "2018-12-26  0.000000  4.840318  8.918512  9.887695  0.000000  0.000000\n",
       "2018-12-27  2.687105  0.852623  1.667901 -3.101990  5.644663  2.349825\n",
       "2018-12-28  0.567759 -0.124235  0.797426  5.459818  0.541552  0.876766\n",
       "2018-12-31  0.792956  0.845663  3.670737 -0.321005  0.182085  0.333881\n",
       "...              ...       ...       ...       ...       ...       ...\n",
       "2021-12-20 -0.970586 -1.145340 -3.165021 -3.561613 -0.814939 -0.500177\n",
       "2021-12-21  1.842108  1.762176  6.633703  4.198676  1.557739  1.186817\n",
       "2021-12-22  0.715572  1.012873  1.126390  7.227131  0.374008  0.705386\n",
       "2021-12-23  0.769457  0.620441  3.802278  5.602008  0.400504  0.607333\n",
       "2021-12-24  0.058946  0.000000  0.000000  0.000000  0.139335  0.162885\n",
       "\n",
       "[770 rows x 6 columns]"
      ]
     },
     "execution_count": 14,
     "metadata": {},
     "output_type": "execute_result"
    }
   ],
   "source": [
    "# Generating dataframe with returns\n",
    "df_returns = np.log(df_stocks / df_stocks.shift()) *100\n",
    "df_returns.iloc[0] = 0\n",
    "df_returns"
   ]
  },
  {
   "cell_type": "code",
   "execution_count": 31,
   "metadata": {},
   "outputs": [],
   "source": [
    "def calc_beta(df, i):\n",
    "    '''Function to calculate Beta (first method)\n",
    "    Input: Dataframe with returns\n",
    "    Output: Beta values for each stock'''\n",
    "    cov = df.cov()\n",
    "    var = df['^GSPC'].var()\n",
    "\n",
    "    return cov.loc[i, '^GSPC'] / var"
   ]
  },
  {
   "cell_type": "code",
   "execution_count": 33,
   "metadata": {},
   "outputs": [
    {
     "name": "stdout",
     "output_type": "stream",
     "text": [
      "Beta for XIC.TO is 0.77\n",
      "Beta for SHOP is 1.2\n",
      "Beta for TSLA is 1.3\n",
      "Beta for VFV.TO is 0.84\n",
      "Beta for VDY.TO is 0.83\n"
     ]
    }
   ],
   "source": [
    "for i in df_returns.columns:\n",
    "    if i != '^GSPC':\n",
    "        print('Beta for {} is {:1.2}'.format(i, calc_beta(df_returns, i)))"
   ]
  },
  {
   "cell_type": "markdown",
   "metadata": {},
   "source": [
    "### Calculating Beta - Method 2"
   ]
  },
  {
   "cell_type": "code",
   "execution_count": 34,
   "metadata": {},
   "outputs": [],
   "source": [
    "def calc_return(df):\n",
    "    '''Function to generate a detaframe with returns\n",
    "    - Input: Dataframe with raw stock data\n",
    "    - Output: Dataframe with returns'''\n",
    "\n",
    "    x = df.copy()\n",
    "    \n",
    "    for i in range(1, len(df)):\n",
    "        x.iloc[i] = (df.iloc[i] - df.iloc[i-1]) / df.iloc[i-1] * 100\n",
    "\n",
    "    x.iloc[0] = 0\n",
    "\n",
    "    return x"
   ]
  },
  {
   "cell_type": "code",
   "execution_count": 35,
   "metadata": {},
   "outputs": [
    {
     "data": {
      "text/html": [
       "<div>\n",
       "<style scoped>\n",
       "    .dataframe tbody tr th:only-of-type {\n",
       "        vertical-align: middle;\n",
       "    }\n",
       "\n",
       "    .dataframe tbody tr th {\n",
       "        vertical-align: top;\n",
       "    }\n",
       "\n",
       "    .dataframe thead th {\n",
       "        text-align: right;\n",
       "    }\n",
       "</style>\n",
       "<table border=\"1\" class=\"dataframe\">\n",
       "  <thead>\n",
       "    <tr style=\"text-align: right;\">\n",
       "      <th>Symbols</th>\n",
       "      <th>XIC.TO</th>\n",
       "      <th>^GSPC</th>\n",
       "      <th>SHOP</th>\n",
       "      <th>TSLA</th>\n",
       "      <th>VFV.TO</th>\n",
       "      <th>VDY.TO</th>\n",
       "    </tr>\n",
       "    <tr>\n",
       "      <th>Date</th>\n",
       "      <th></th>\n",
       "      <th></th>\n",
       "      <th></th>\n",
       "      <th></th>\n",
       "      <th></th>\n",
       "      <th></th>\n",
       "    </tr>\n",
       "  </thead>\n",
       "  <tbody>\n",
       "    <tr>\n",
       "      <th>2018-12-24</th>\n",
       "      <td>0.000000</td>\n",
       "      <td>0.000000</td>\n",
       "      <td>0.000000</td>\n",
       "      <td>0.000000</td>\n",
       "      <td>0.000000</td>\n",
       "      <td>0.000000</td>\n",
       "    </tr>\n",
       "    <tr>\n",
       "      <th>2018-12-26</th>\n",
       "      <td>0.000000</td>\n",
       "      <td>4.959374</td>\n",
       "      <td>9.328303</td>\n",
       "      <td>10.393045</td>\n",
       "      <td>0.000000</td>\n",
       "      <td>0.000000</td>\n",
       "    </tr>\n",
       "    <tr>\n",
       "      <th>2018-12-27</th>\n",
       "      <td>2.723533</td>\n",
       "      <td>0.856268</td>\n",
       "      <td>1.681889</td>\n",
       "      <td>-3.054372</td>\n",
       "      <td>5.807014</td>\n",
       "      <td>2.377651</td>\n",
       "    </tr>\n",
       "    <tr>\n",
       "      <th>2018-12-28</th>\n",
       "      <td>0.569373</td>\n",
       "      <td>-0.124158</td>\n",
       "      <td>0.800614</td>\n",
       "      <td>5.611616</td>\n",
       "      <td>0.543021</td>\n",
       "      <td>0.880621</td>\n",
       "    </tr>\n",
       "    <tr>\n",
       "      <th>2018-12-31</th>\n",
       "      <td>0.796108</td>\n",
       "      <td>0.849248</td>\n",
       "      <td>3.738940</td>\n",
       "      <td>-0.320491</td>\n",
       "      <td>0.182251</td>\n",
       "      <td>0.334439</td>\n",
       "    </tr>\n",
       "    <tr>\n",
       "      <th>...</th>\n",
       "      <td>...</td>\n",
       "      <td>...</td>\n",
       "      <td>...</td>\n",
       "      <td>...</td>\n",
       "      <td>...</td>\n",
       "      <td>...</td>\n",
       "    </tr>\n",
       "    <tr>\n",
       "      <th>2021-12-20</th>\n",
       "      <td>-0.965891</td>\n",
       "      <td>-1.138806</td>\n",
       "      <td>-3.115459</td>\n",
       "      <td>-3.498934</td>\n",
       "      <td>-0.811628</td>\n",
       "      <td>-0.498929</td>\n",
       "    </tr>\n",
       "    <tr>\n",
       "      <th>2021-12-21</th>\n",
       "      <td>1.859179</td>\n",
       "      <td>1.777793</td>\n",
       "      <td>6.858680</td>\n",
       "      <td>4.288067</td>\n",
       "      <td>1.569935</td>\n",
       "      <td>1.193887</td>\n",
       "    </tr>\n",
       "    <tr>\n",
       "      <th>2021-12-22</th>\n",
       "      <td>0.718138</td>\n",
       "      <td>1.018020</td>\n",
       "      <td>1.132757</td>\n",
       "      <td>7.494695</td>\n",
       "      <td>0.374709</td>\n",
       "      <td>0.707879</td>\n",
       "    </tr>\n",
       "    <tr>\n",
       "      <th>2021-12-23</th>\n",
       "      <td>0.772425</td>\n",
       "      <td>0.622370</td>\n",
       "      <td>3.875490</td>\n",
       "      <td>5.761893</td>\n",
       "      <td>0.401307</td>\n",
       "      <td>0.609181</td>\n",
       "    </tr>\n",
       "    <tr>\n",
       "      <th>2021-12-24</th>\n",
       "      <td>0.058964</td>\n",
       "      <td>0.000000</td>\n",
       "      <td>0.000000</td>\n",
       "      <td>0.000000</td>\n",
       "      <td>0.139433</td>\n",
       "      <td>0.163017</td>\n",
       "    </tr>\n",
       "  </tbody>\n",
       "</table>\n",
       "<p>770 rows × 6 columns</p>\n",
       "</div>"
      ],
      "text/plain": [
       "Symbols       XIC.TO     ^GSPC      SHOP       TSLA    VFV.TO    VDY.TO\n",
       "Date                                                                   \n",
       "2018-12-24  0.000000  0.000000  0.000000   0.000000  0.000000  0.000000\n",
       "2018-12-26  0.000000  4.959374  9.328303  10.393045  0.000000  0.000000\n",
       "2018-12-27  2.723533  0.856268  1.681889  -3.054372  5.807014  2.377651\n",
       "2018-12-28  0.569373 -0.124158  0.800614   5.611616  0.543021  0.880621\n",
       "2018-12-31  0.796108  0.849248  3.738940  -0.320491  0.182251  0.334439\n",
       "...              ...       ...       ...        ...       ...       ...\n",
       "2021-12-20 -0.965891 -1.138806 -3.115459  -3.498934 -0.811628 -0.498929\n",
       "2021-12-21  1.859179  1.777793  6.858680   4.288067  1.569935  1.193887\n",
       "2021-12-22  0.718138  1.018020  1.132757   7.494695  0.374709  0.707879\n",
       "2021-12-23  0.772425  0.622370  3.875490   5.761893  0.401307  0.609181\n",
       "2021-12-24  0.058964  0.000000  0.000000   0.000000  0.139433  0.163017\n",
       "\n",
       "[770 rows x 6 columns]"
      ]
     },
     "execution_count": 35,
     "metadata": {},
     "output_type": "execute_result"
    }
   ],
   "source": [
    "df_returns_alt = calc_return(df_stocks)\n",
    "df_returns_alt"
   ]
  },
  {
   "cell_type": "code",
   "execution_count": 37,
   "metadata": {},
   "outputs": [],
   "source": [
    "def calc_beta_alt(df, i):\n",
    "    '''Function to calculate Beta (second method)\n",
    "    Input: Dataframe with returns\n",
    "    Output: Beta values for each stock'''\n",
    "\n",
    "    return np.polyfit(df['^GSPC'], df_returns_alt[i], 1) # first position is Beta, second position is Alpha"
   ]
  },
  {
   "cell_type": "code",
   "execution_count": 39,
   "metadata": {},
   "outputs": [
    {
     "name": "stdout",
     "output_type": "stream",
     "text": [
      "Beta for XIC.TO is 0.76\n",
      "Beta for SHOP is 1.2\n",
      "Beta for TSLA is 1.3\n",
      "Beta for VFV.TO is 0.84\n",
      "Beta for VDY.TO is 0.82\n"
     ]
    }
   ],
   "source": [
    "for i in df_returns_alt.columns:\n",
    "    if i != '^GSPC':\n",
    "        print('Beta for {} is {:1.2}'.format(i, calc_beta_alt(df_returns_alt, i)[0]))"
   ]
  },
  {
   "cell_type": "markdown",
   "metadata": {},
   "source": [
    "The results are slightly different, but close enough for the evaluation. This means it doesn't matter which methods are used in this case."
   ]
  },
  {
   "cell_type": "markdown",
   "metadata": {},
   "source": [
    "### Visualizing Beta"
   ]
  },
  {
   "cell_type": "code",
   "execution_count": 54,
   "metadata": {},
   "outputs": [
    {
     "data": {
      "image/png": "[encoded data removed]",
      "text/plain": [
       "<Figure size 720x720 with 1 Axes>"
      ]
     },
     "metadata": {
      "needs_background": "light"
     },
     "output_type": "display_data"
    }
   ],
   "source": [
    "df_returns_alt.plot(kind='scatter', x = '^GSPC', y='XIC.TO', figsize=(10, 10))\n",
    "plt.plot(df_returns_alt['^GSPC'], calc_beta_alt(df_returns_alt, 'XIC.TO')[0] * df_returns_alt['^GSPC'] + calc_beta_alt(df_returns_alt, 'XIC.TO')[1], '-', color='red')\n",
    "plt.grid();"
   ]
  },
  {
   "cell_type": "markdown",
   "metadata": {},
   "source": [
    "The above graph shows beta and alpha represented by the red line. Beta is the line's slope, alpha it's intercept. This is an example of a relatively stable stock (XIC) because the slope is less than 1. "
   ]
  },
  {
   "cell_type": "markdown",
   "metadata": {},
   "source": [
    "## 4. Calculating the Expected Rate of Return\n",
    "The expected rate of return expresses a potential return rate that considers the relation to a risk free asset, the relation to the market (in our case S&P 500), and the Beta indicator.\n",
    "\n",
    "The Expected Rate of Return can then compared with the rate based on the observed (historical) data.\n",
    "Interpretation:\n",
    "- Expected Rate of Return is higher than the observed: The asset is Overvalued\n",
    "- Expected Rate of Return is lower than the observed: The asset is Undervalued\n",
    "\n",
    "The general advice is to aquire undervalued assets."
   ]
  },
  {
   "cell_type": "markdown",
   "metadata": {},
   "source": [
    "<img src=\"https://capital.com/files/glossary/[Infographic]%20Capital%20asset%20pricing%20model.png\" width=\"750\">"
   ]
  },
  {
   "cell_type": "markdown",
   "metadata": {},
   "source": [
    "### Process\n",
    "- Calculate the average market return value (rm) for a year\n",
    "- Obtain the risk free rate (rf) for a year\n",
    "- Calculate the stock's Beta (beta) rate\n",
    "- Calculate the Expected rate (ER or R) for the stock\n",
    "- Evaluate the ER based in comparison with the observed rate"
   ]
  },
  {
   "cell_type": "markdown",
   "metadata": {},
   "source": [
    "### Calculating the market return rate rm\n",
    "The S&P 500 stock (symbol: ^GSPC) is often used as a representation of the market."
   ]
  },
  {
   "cell_type": "code",
   "execution_count": 56,
   "metadata": {},
   "outputs": [
    {
     "name": "stdout",
     "output_type": "stream",
     "text": [
      "The rm rate is 26.23.\n"
     ]
    }
   ],
   "source": [
    "# Extracting S&P500 return rates and transform into a yearly return rate.\n",
    "# Total 3-year dataset has 770 rows => 257 days per year; potentially a simplification but close enough\n",
    "rm = ((1 + df_returns['^GSPC'].mean() / 100) ** 257 - 1) * 100\n",
    "print('The rm rate is {:4.4}.'.format(rm))"
   ]
  },
  {
   "cell_type": "markdown",
   "metadata": {},
   "source": [
    "### Obtaining the risk free rate rf\n",
    "Mostly the rf rate is extracted from the [US government tresury bond](https://www.treasury.gov/resource-center/data-chart-center/interest-rates/Pages/TextView.aspx?data=billratesAll).\n",
    "\n",
    "The value can be calculated, but for simplicity, we will take a rate of 1.5."
   ]
  },
  {
   "cell_type": "code",
   "execution_count": 57,
   "metadata": {},
   "outputs": [],
   "source": [
    "# Just googled\n",
    "rf = 1.5"
   ]
  },
  {
   "cell_type": "markdown",
   "metadata": {},
   "source": [
    "### Calculating the Expected Rate of Return based on CAPM"
   ]
  },
  {
   "cell_type": "code",
   "execution_count": 58,
   "metadata": {},
   "outputs": [],
   "source": [
    "def calc_er(df):\n",
    "    '''Function to calculate the expected rate of return\n",
    "    Input: Dataframe with historical retuns\n",
    "    Output: Dictionary containing expected returns for each contained stock\n",
    "    '''\n",
    "    dict_er = {}\n",
    "\n",
    "    for i in df.columns:\n",
    "        if i != '^GSPC':\n",
    "            dict_er[i] = rf + calc_beta(df, i) * (rm - rf)\n",
    "\n",
    "    return dict_er"
   ]
  },
  {
   "cell_type": "code",
   "execution_count": 76,
   "metadata": {},
   "outputs": [
    {
     "name": "stdout",
     "output_type": "stream",
     "text": [
      "Expected rate of return for XIC.TO is 20.43%\n",
      "Expected rate of return for SHOP is 30.72%\n",
      "Expected rate of return for TSLA is 34.74%\n",
      "Expected rate of return for VFV.TO is 22.17%\n",
      "Expected rate of return for VDY.TO is 21.98%\n"
     ]
    }
   ],
   "source": [
    "dict_er = calc_er(df_returns)\n",
    "for i in dict_er.keys():\n",
    "    print('Expected rate of return for {} is {:2.4}%'.format(i, dict_er[i]))"
   ]
  },
  {
   "cell_type": "markdown",
   "metadata": {},
   "source": [
    "## 5. Output interpretation"
   ]
  },
  {
   "cell_type": "code",
   "execution_count": 78,
   "metadata": {},
   "outputs": [
    {
     "name": "stdout",
     "output_type": "stream",
     "text": [
      "XIC.TO \n",
      "   Expected rate based on CAPM: 20.43% \n",
      "   Historical: 19.1% \n",
      "   The stock is overvalued.\n",
      "SHOP \n",
      "   Expected rate based on CAPM: 30.72% \n",
      "   Historical: 129.4% \n",
      "   The stock is undervalued.\n",
      "TSLA \n",
      "   Expected rate based on CAPM: 34.74% \n",
      "   Historical: 162.2% \n",
      "   The stock is undervalued.\n",
      "VFV.TO \n",
      "   Expected rate based on CAPM: 22.17% \n",
      "   Historical: 25.52% \n",
      "   The stock is undervalued.\n",
      "VDY.TO \n",
      "   Expected rate based on CAPM: 21.98% \n",
      "   Historical: 19.14% \n",
      "   The stock is overvalued.\n"
     ]
    }
   ],
   "source": [
    "for i in df_returns.columns:\n",
    "    if i != '^GSPC':\n",
    "        r_hist = ((1 + df_returns[i].mean() / 100) ** 257 - 1) * 100\n",
    "        if r_hist > dict_er[i]:\n",
    "            print('{} \\n   Expected rate based on CAPM: {:2.4}% \\n   Historical: {:2.4}% \\n   The stock is undervalued.'.format(i, dict_er[i], r_hist))\n",
    "        else:\n",
    "            print('{} \\n   Expected rate based on CAPM: {:2.4}% \\n   Historical: {:2.4}% \\n   The stock is overvalued.'.format(i, dict_er[i], r_hist))"
   ]
  },
  {
   "cell_type": "code",
   "execution_count": null,
   "metadata": {},
   "outputs": [],
   "source": []
  }
 ],
 "metadata": {
  "interpreter": {
   "hash": "dcacb0086e9a4f4eabd41c33bf4faac5ea0a3337ed3f5eff0680afa930572c04"
  },
  "kernelspec": {
   "display_name": "Python 3.9.4 64-bit",
   "language": "python",
   "name": "python3"
  },
  "language_info": {
   "codemirror_mode": {
    "name": "ipython",
    "version": 3
   },
   "file_extension": ".py",
   "mimetype": "text/x-python",
   "name": "python",
   "nbconvert_exporter": "python",
   "pygments_lexer": "ipython3",
   "version": "3.9.4"
  },
  "orig_nbformat": 4
 },
 "nbformat": 4,
 "nbformat_minor": 2
}
