{
 "cells": [
  {
   "cell_type": "markdown",
   "metadata": {},
   "source": [
    "# Predictions with Liniear Regression and Ridge Regression (L2 Regularization)\n",
    "\n",
    "### About predicting with regression models\n",
    "...\n",
    "\n",
    "<img src=\"https://i0.wp.com/thaddeus-segura.com/wp-content/uploads/2020/09/testset.png?resize=960%2C615&ssl=1\" width=\"750\">\n",
    "\n",
    "...\n",
    "\n",
    "<img src=\"https://i.stack.imgur.com/s71QZ.png\" width=\"750\">\n",
    "\n",
    "\n",
    "### Objective\n",
    "...t\n",
    "\n",
    "\n",
    "### Approach\n",
    "1. Import libraries\n",
    "2. Data and data preparation\n",
    "3. Exploratory data analysis\n",
    "4. Linear Regression\n",
    "5. Ridge Regression"
   ]
  },
  {
   "cell_type": "markdown",
   "metadata": {},
   "source": []
  }
 ],
 "metadata": {
  "language_info": {
   "name": "python"
  },
  "orig_nbformat": 4
 },
 "nbformat": 4,
 "nbformat_minor": 2
}
