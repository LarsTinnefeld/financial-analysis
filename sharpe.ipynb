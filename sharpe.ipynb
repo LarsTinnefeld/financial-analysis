{
 "cells": [
  {
   "cell_type": "markdown",
   "metadata": {},
   "source": [
    "# Sharpe\n",
    "\n",
    "### About Sharpe\n",
    "The Sharpe Ratio is a method to evaluate an asset's return in relation to it's risk. It is doing so by dividing the \"exess return\" by it's standard deviation. The \"exess return\" is the difference of the average return to the one of a \"risk free\" asses (such as US Government Bonds).\n",
    "\n",
    "<img src=\"https://www.myaccountingcourse.com/wp-content/uploads/2017/10/sharpe-ratio-formula.jpg\" width=\"750\">\n",
    "\n",
    "The below chart illustrates an example.\n",
    "\n",
    "<img src=\"http://www.marottaonmoney.com/wp-content/uploads/2017/09/chile-sharpe.jpg\" width=\"750\">\n",
    "\n",
    "\n",
    "### Approach\n",
    "1. Import libraries\n",
    "2. Data and data preparation"
   ]
  },
  {
   "cell_type": "code",
   "execution_count": null,
   "metadata": {},
   "outputs": [],
   "source": []
  }
 ],
 "metadata": {
  "language_info": {
   "name": "python"
  },
  "orig_nbformat": 4
 },
 "nbformat": 4,
 "nbformat_minor": 2
}
