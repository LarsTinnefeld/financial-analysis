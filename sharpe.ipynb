{
 "cells": [
  {
   "cell_type": "code",
   "execution_count": null,
   "metadata": {},
   "outputs": [],
   "source": [
    "# Sharpe\n",
    "\n",
    "### About Sharpe\n",
    "...\n",
    "\n",
    "### Objectives\n",
    "...\n",
    "\n",
    "### Approach\n",
    "1. Import libraries\n",
    "2. Data and data preparation"
   ]
  }
 ],
 "metadata": {
  "language_info": {
   "name": "python"
  },
  "orig_nbformat": 4
 },
 "nbformat": 4,
 "nbformat_minor": 2
}
